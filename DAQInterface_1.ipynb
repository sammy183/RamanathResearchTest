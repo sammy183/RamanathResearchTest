{
 "cells": [
  {
   "cell_type": "code",
   "execution_count": 41,
   "id": "89571dbd",
   "metadata": {},
   "outputs": [
    {
     "ename": "DaqReadError",
     "evalue": "Resource requested by this task has already been reserved by a different task.\nDevice: cDAQ1\n\nTask Name: _unnamedTask<1D6>\n\nStatus Code: -200022",
     "output_type": "error",
     "traceback": [
      "\u001b[1;31m---------------------------------------------------------------------------\u001b[0m",
      "\u001b[1;31mDaqReadError\u001b[0m                              Traceback (most recent call last)",
      "Cell \u001b[1;32mIn[41], line 16\u001b[0m\n\u001b[0;32m     14\u001b[0m time \u001b[38;5;241m=\u001b[39m np\u001b[38;5;241m.\u001b[39marray([])\n\u001b[0;32m     15\u001b[0m \u001b[38;5;28;01mfor\u001b[39;00m i \u001b[38;5;129;01min\u001b[39;00m \u001b[38;5;28mrange\u001b[39m(\u001b[38;5;241m5000\u001b[39m):\n\u001b[1;32m---> 16\u001b[0m         np\u001b[38;5;241m.\u001b[39mappend(volt, \u001b[43mtask\u001b[49m\u001b[38;5;241;43m.\u001b[39;49m\u001b[43mread\u001b[49m\u001b[43m(\u001b[49m\u001b[43m)\u001b[49m)\n\u001b[0;32m     17\u001b[0m         np\u001b[38;5;241m.\u001b[39mappend(time, i)\n\u001b[0;32m     19\u001b[0m fig, ax \u001b[38;5;241m=\u001b[39m plt\u001b[38;5;241m.\u001b[39msubplots()\n",
      "File \u001b[1;32m~\\anaconda3\\envs\\useme\\lib\\site-packages\\nidaqmx\\task.py:668\u001b[0m, in \u001b[0;36mTask.read\u001b[1;34m(self, number_of_samples_per_channel, timeout)\u001b[0m\n\u001b[0;32m    666\u001b[0m     \u001b[38;5;28;01melse\u001b[39;00m:\n\u001b[0;32m    667\u001b[0m         data \u001b[38;5;241m=\u001b[39m numpy\u001b[38;5;241m.\u001b[39mzeros(array_shape, dtype\u001b[38;5;241m=\u001b[39mnumpy\u001b[38;5;241m.\u001b[39mfloat64)\n\u001b[1;32m--> 668\u001b[0m         samples_read \u001b[38;5;241m=\u001b[39m \u001b[43m_read_analog_f_64\u001b[49m\u001b[43m(\u001b[49m\n\u001b[0;32m    669\u001b[0m \u001b[43m            \u001b[49m\u001b[38;5;28;43mself\u001b[39;49m\u001b[38;5;241;43m.\u001b[39;49m\u001b[43m_handle\u001b[49m\u001b[43m,\u001b[49m\u001b[43m \u001b[49m\u001b[43mdata\u001b[49m\u001b[43m,\u001b[49m\u001b[43m \u001b[49m\u001b[43mnumber_of_samples_per_channel\u001b[49m\u001b[43m,\u001b[49m\u001b[43m \u001b[49m\u001b[43mtimeout\u001b[49m\u001b[43m)\u001b[49m\n\u001b[0;32m    671\u001b[0m \u001b[38;5;66;03m# Digital Input or Digital Output\u001b[39;00m\n\u001b[0;32m    672\u001b[0m \u001b[38;5;28;01melif\u001b[39;00m (read_chan_type \u001b[38;5;241m==\u001b[39m ChannelType\u001b[38;5;241m.\u001b[39mDIGITAL_INPUT \u001b[38;5;129;01mor\u001b[39;00m\n\u001b[0;32m    673\u001b[0m         read_chan_type \u001b[38;5;241m==\u001b[39m ChannelType\u001b[38;5;241m.\u001b[39mDIGITAL_OUTPUT):\n",
      "File \u001b[1;32m~\\anaconda3\\envs\\useme\\lib\\site-packages\\nidaqmx\\_task_modules\\read_functions.py:31\u001b[0m, in \u001b[0;36m_read_analog_f_64\u001b[1;34m(task_handle, read_array, num_samps_per_chan, timeout, fill_mode)\u001b[0m\n\u001b[0;32m     20\u001b[0m             cfunc\u001b[38;5;241m.\u001b[39margtypes \u001b[38;5;241m=\u001b[39m [\n\u001b[0;32m     21\u001b[0m                 lib_importer\u001b[38;5;241m.\u001b[39mtask_handle, ctypes\u001b[38;5;241m.\u001b[39mc_int, ctypes\u001b[38;5;241m.\u001b[39mc_double,\n\u001b[0;32m     22\u001b[0m                 c_bool32,\n\u001b[0;32m     23\u001b[0m                 wrapped_ndpointer(dtype\u001b[38;5;241m=\u001b[39mnumpy\u001b[38;5;241m.\u001b[39mfloat64, flags\u001b[38;5;241m=\u001b[39m(\u001b[38;5;124m'\u001b[39m\u001b[38;5;124mC\u001b[39m\u001b[38;5;124m'\u001b[39m, \u001b[38;5;124m'\u001b[39m\u001b[38;5;124mW\u001b[39m\u001b[38;5;124m'\u001b[39m)),\n\u001b[0;32m     24\u001b[0m                 ctypes\u001b[38;5;241m.\u001b[39mc_uint, ctypes\u001b[38;5;241m.\u001b[39mPOINTER(ctypes\u001b[38;5;241m.\u001b[39mc_int),\n\u001b[0;32m     25\u001b[0m                 ctypes\u001b[38;5;241m.\u001b[39mPOINTER(c_bool32)]\n\u001b[0;32m     27\u001b[0m error_code \u001b[38;5;241m=\u001b[39m cfunc(\n\u001b[0;32m     28\u001b[0m     task_handle, num_samps_per_chan, timeout, fill_mode\u001b[38;5;241m.\u001b[39mvalue,\n\u001b[0;32m     29\u001b[0m     read_array, read_array\u001b[38;5;241m.\u001b[39msize,\n\u001b[0;32m     30\u001b[0m     ctypes\u001b[38;5;241m.\u001b[39mbyref(samps_per_chan_read), \u001b[38;5;28;01mNone\u001b[39;00m)\n\u001b[1;32m---> 31\u001b[0m \u001b[43mcheck_for_error\u001b[49m\u001b[43m(\u001b[49m\u001b[43merror_code\u001b[49m\u001b[43m,\u001b[49m\u001b[43m \u001b[49m\u001b[43msamps_per_chan_read\u001b[49m\u001b[38;5;241;43m=\u001b[39;49m\u001b[43msamps_per_chan_read\u001b[49m\u001b[38;5;241;43m.\u001b[39;49m\u001b[43mvalue\u001b[49m\u001b[43m)\u001b[49m\n\u001b[0;32m     33\u001b[0m \u001b[38;5;28;01mreturn\u001b[39;00m samps_per_chan_read\u001b[38;5;241m.\u001b[39mvalue\n",
      "File \u001b[1;32m~\\anaconda3\\envs\\useme\\lib\\site-packages\\nidaqmx\\errors.py:192\u001b[0m, in \u001b[0;36mcheck_for_error\u001b[1;34m(error_code, samps_per_chan_written, samps_per_chan_read)\u001b[0m\n\u001b[0;32m    189\u001b[0m cfunc(error_buffer, \u001b[38;5;241m2048\u001b[39m)\n\u001b[0;32m    191\u001b[0m \u001b[38;5;28;01mif\u001b[39;00m samps_per_chan_read \u001b[38;5;129;01mis\u001b[39;00m \u001b[38;5;129;01mnot\u001b[39;00m \u001b[38;5;28;01mNone\u001b[39;00m:\n\u001b[1;32m--> 192\u001b[0m     \u001b[38;5;28;01mraise\u001b[39;00m DaqReadError(error_buffer\u001b[38;5;241m.\u001b[39mvalue\u001b[38;5;241m.\u001b[39mdecode(\u001b[38;5;124m\"\u001b[39m\u001b[38;5;124mutf-8\u001b[39m\u001b[38;5;124m\"\u001b[39m), error_code, samps_per_chan_read)\n\u001b[0;32m    193\u001b[0m \u001b[38;5;28;01melif\u001b[39;00m samps_per_chan_written \u001b[38;5;129;01mis\u001b[39;00m \u001b[38;5;129;01mnot\u001b[39;00m \u001b[38;5;28;01mNone\u001b[39;00m:\n\u001b[0;32m    194\u001b[0m     \u001b[38;5;28;01mraise\u001b[39;00m DaqWriteError(error_buffer\u001b[38;5;241m.\u001b[39mvalue\u001b[38;5;241m.\u001b[39mdecode(\u001b[38;5;124m\"\u001b[39m\u001b[38;5;124mutf-8\u001b[39m\u001b[38;5;124m\"\u001b[39m), error_code, samps_per_chan_written)\n",
      "\u001b[1;31mDaqReadError\u001b[0m: Resource requested by this task has already been reserved by a different task.\nDevice: cDAQ1\n\nTask Name: _unnamedTask<1D6>\n\nStatus Code: -200022"
     ]
    }
   ],
   "source": [
    "import nidaqmx as ni\n",
    "import numpy as np\n",
    "import matplotlib.pyplot as plt\n",
    "\n",
    "Units = ni.constants.BridgeUnits.VOLTS_PER_VOLT\n",
    "Excite = ni.constants.ExcitationSource.INTERNAL\n",
    "Full = ni.constants.BridgeConfiguration.FULL_BRIDGE\n",
    "Cont = ni.constants.AcquisitionType.CONTINUOUS\n",
    "task = ni.Task()\n",
    "task.ai_channels.add_ai_bridge_chan(\"cDAQ1Mod1/ai0\",name_to_assign_to_channel=\"plswork\",min_val=-0.00025,max_val=0.00025,units=Units,bridge_config=Full, voltage_excit_source=Excite,voltage_excit_val=10.0)\n",
    "task.timing.cfg_samp_clk_timing(25000, sample_mode=Cont)\n",
    "\n",
    "volt = np.array([])\n",
    "time = np.array([])\n",
    "for i in range(5000):\n",
    "        np.append(volt, task.read())\n",
    "        np.append(time, i)\n",
    "\n",
    "fig, ax = plt.subplots()\n",
    "ax.plot(time, volt)\n",
    "plt.show()\n"
   ]
  },
  {
   "cell_type": "code",
   "execution_count": null,
   "id": "3326b712",
   "metadata": {},
   "outputs": [],
   "source": []
  },
  {
   "cell_type": "code",
   "execution_count": null,
   "id": "8bd06be8",
   "metadata": {},
   "outputs": [],
   "source": []
  }
 ],
 "metadata": {
  "kernelspec": {
   "display_name": "Python 3 (ipykernel)",
   "language": "python",
   "name": "python3"
  },
  "language_info": {
   "codemirror_mode": {
    "name": "ipython",
    "version": 3
   },
   "file_extension": ".py",
   "mimetype": "text/x-python",
   "name": "python",
   "nbconvert_exporter": "python",
   "pygments_lexer": "ipython3",
   "version": "3.9.15"
  }
 },
 "nbformat": 4,
 "nbformat_minor": 5
}
